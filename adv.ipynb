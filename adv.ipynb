{
 "cells": [
  {
   "cell_type": "code",
   "execution_count": 22,
   "metadata": {
    "colab": {
     "base_uri": "https://localhost:8080/",
     "height": 1000
    },
    "colab_type": "code",
    "executionInfo": {
     "elapsed": 1587,
     "status": "ok",
     "timestamp": 1600907770042,
     "user": {
      "displayName": "Julio Calderaro",
      "photoUrl": "https://lh3.googleusercontent.com/a-/AOh14GiQFJ3fBmrh8Mmqhbol8wZHD3Uv367yeLdr6pJ0bA=s64",
      "userId": "16947251362447801808"
     },
     "user_tz": -120
    },
    "id": "9HQcJ1W296qm",
    "outputId": "02fa958c-8d0b-41dd-a14b-7772e8bc89f5"
   },
   "outputs": [
    {
     "name": "stdout",
     "output_type": "stream",
     "text": [
      "<class 'pandas.core.frame.DataFrame'>\n",
      "RangeIndex: 172 entries, 0 to 171\n",
      "Data columns (total 4 columns):\n",
      " #   Column       Non-Null Count  Dtype  \n",
      "---  ------       --------------  -----  \n",
      " 0   Proveedor    172 non-null    object \n",
      " 1   Descripcion  172 non-null    object \n",
      " 2   cajas        172 non-null    float64\n",
      " 3   monto        172 non-null    float64\n",
      "dtypes: float64(2), object(2)\n",
      "memory usage: 5.5+ KB\n",
      "None\n",
      "\n",
      "Monto promedio: 3650951.075755813\n",
      "Cajas promedio: 300.23837209302326\n",
      "\n",
      "Monto Total: 627963585.0299999\n",
      "Cajas Totales: 51641.0\n",
      "\n",
      "Proveedores:\n",
      " ['BETTER HOME PRODUCTS, C.A.' 'BAYER, S.A.' 'POLIFILM DE VENEZUELA, S.A.'\n",
      " 'BEIERSDORF S.A.' 'FABRICA NACIONAL DERIVADOS DE CARTON, C.A.'\n",
      " 'ANCOR COSMETICS,C.A' 'CONSORCIO IMPORLIGTH, C.A.' 'GRUPO DIPACA, C.A.'\n",
      " 'GAMMA FOOD INC,C.A.' 'EMULSIFICANTES VENEZOLANOS EMULVEN C A'\n",
      " 'BLANQUEADORES VENEZOLANOS S.A' 'ALIMENTOS MERU C.A' 'MARENOSTRUM C.A'\n",
      " 'INVERSIONES SHAFAGIAM 2013,CA.' 'LABORATORIOS FC PHARMA,CA']\n",
      "Productos:\n",
      " ['LIMPIADOR DE POCETAS MAS.' 'LIMPIADOR DE POCETAS MAS'\n",
      " 'LIMPIADOR DE HORNO MAS' 'LIMPIADOR DE VIDRIO.' 'MULTIUSO REPUESTO'\n",
      " 'DESENGRASANTE REPUESTO.' 'MULTIUSO RESPUESTO'\n",
      " 'DESENGRASANTE C/CITRAL(PISTOLA).' 'LIMPIADOR AMONIACAL'\n",
      " 'LIMPIADOR AMONIACAL.' 'BOLSAS ALICIAS ESPECIAL.'\n",
      " 'BOLSAS ALICIAS SANDWICH.' 'BOLSAS ALICIA PICNIC.'\n",
      " 'LIMPIADOR DE BALDOSAS REPUESTO.' 'LIDO EMBELLECEDOR PARQUET Y MADERA'\n",
      " 'LIDO EMBELLECEDOR DE MARMOL Y GRANITO'\n",
      " 'LIDO EMBELLECEDOR PORCELANATO Y CERAM' 'BEDUCEN UNGUENTO'\n",
      " 'BEDUCEN CREMA' 'BEDUCEN LOCION' 'ENV-O PLAST CAJA' 'POLIUSOS'\n",
      " 'ENVOPLAST EXTRA ANCHO' 'ENVOFACIL' 'ENVOPACKS PEQUEÃ\\x91O.'\n",
      " 'ENVOPACKS MEDIANO' 'ENVOPACKS GRANDE.' 'ENVOPACK JUMBO'\n",
      " 'ENV-O-PLAST ROLLO' 'ENVOLT.INDUSTRIAL CHAMPAGNE.'\n",
      " 'NIVEA SUN PROTECT & BRONZE' 'NIVEA SUN PROTECT & REFRESH FPS 50'\n",
      " 'NIVEA BODY NUTRITIVA PIEL EXTRA SECA' 'NIVEA BODY PIEL SECA'\n",
      " 'NIVEA VISAGE GEL LIMP.EQUILIBRANTE.' 'TOALLITAS DESMAQUILLANTES.'\n",
      " 'CREMA ANTI-ARRUGAS Q10 PLUS DIA.' 'CREMA ANTI-ARRUGAS Q10 PLUS NOCHE.'\n",
      " 'NSUN  LOCION PROT. SOLAR HIDRATANTE FPS50' 'BLOQUEADOR FPS-50 NINO.'\n",
      " 'NVIS ACLARADO NATURAL CREMA FACIAL DIA'\n",
      " 'NVIS ACLARADO NATURAL CREMA FACIAL NOCHE'\n",
      " 'NVIS CELLULAR ANTIAGE DIA FPS30' 'PLATO CARTON # 5 12cm'\n",
      " 'CUCHILLO PICNIC BLANCO' 'VASO PLASTICO PET VERDE # 12 12oz. 360cc'\n",
      " 'PITILLO PLASTICO ESTUCHE' 'CAJA DE PIZZA GENERICA 25X25'\n",
      " 'CAJA DE PIZZA GENERICA 40X40' 'CAJA DE PIZZA GENERICA 33X33'\n",
      " 'CAJAS DE PIZZAS GENERICA 25X25' 'GEL PARA EL CABELLO'\n",
      " 'COLONIA PARA NIÃ\\x91OS CARICIAS' 'LOCION PARA NIÃ\\x91OS CARICIAS'\n",
      " 'ACEITE CARICIAS' 'CREMA P/CUERPO NAT.FRAG. MANZANA'\n",
      " 'CREMA P/CUERPO NAT.FRAG. FRESA' 'CREMA P/CUERPO NAT.FRAG. CEREZA'\n",
      " 'TALCO PARA NIÃ\\x91OS CARICIAS' 'DULCILIGHT ESTUCHE'\n",
      " 'COTUFAS DE MAIZ NATURAL' 'COTUFAS DE MAIZ SABOR MANTEQUILLA'\n",
      " 'HARINA DE YUCA GOLD' 'RICE NEW' 'HARINA DE GARBANZOS' 'PAPARICE'\n",
      " 'SITAP PLUS' 'SITAP' 'FIBRAPLUS CON L-CARNITINA' 'LIMPIA VIDRIO TURBO TX'\n",
      " 'LIMPIA VIDRIOS TURBO TX' 'CHAMPÃ\\x9a CON SILICONE TURBO TX'\n",
      " 'REFRIGERANTE ESSENTIAL TURBO TX VERDE'\n",
      " 'REFRIGERANTE ESSENTIAL TURBO TX ROJO'\n",
      " 'REFRIGERANTE ESSENTIAL TURBO TX NARANJA'\n",
      " 'REFRIGERANTE OFF ROAD TURBO TX VERDE'\n",
      " 'REFRIGERANTE OFF ROAD TURBO TX ROJO' 'DESENGRASANTE TURBO TX'\n",
      " 'LIMPIA VIDRIO TURBO TX RESP.' 'DESENGRASANTE TURBO TX RESP.'\n",
      " 'REF. ESSENTIAL TURBO TX AMARILLO' 'REF.OFF ROAD TURBO TX AMARILLO'\n",
      " 'REF. OFF ROAD TURBO TX AMARILLO' 'DETERGENTE BLANCOTEX LIQUIDO'\n",
      " 'SAL MERÃ\\x9a PARRILLERA' 'SAL MERÃ\\x9a GRUESA' 'SAL MERÃ\\x9a FINA'\n",
      " 'SAL MERU PARRILLERA' 'PRESERVATIVO M-ZONE NATURAL'\n",
      " 'PRESERVATIVO M-ZONE ACANALADO' 'PRESERVATIVO M-ZONE TEXTURIZADO'\n",
      " 'PRESERVATIVO M-ZONE ANATÃ\\x93MICO' 'BICCHIERE FANTASIA DI CACAO'\n",
      " 'TAZZA FANTASIA DI CACAO' 'VASOS FANTASIA DI CACAO DUO'\n",
      " 'VASOS FANTASIA DI CACAO' 'ARNICA FC ROLL ON' 'NACIVIT C' 'NACIVIT E'\n",
      " 'PERLAVIS FEMME BAÃ\\x91O INTIMO' 'ARNICA FC PLUS'\n",
      " 'PERLAVIS HOMBRE BAÃ\\x91O INTIMO' 'ARNICA FC FORTE ROLL ON']\n"
     ]
    }
   ],
   "source": [
    "import pandas as pd\n",
    "import pandas.util.testing as tm\n",
    "import numpy as np\n",
    "import matplotlib.pyplot as plt\n",
    "import seaborn as sns\n",
    "\n",
    "\n",
    "datos = pd.read_csv('datos_test.csv', sep=',', encoding=\"ISO-8859-1\", usecols=['Proveedor', 'Descripcion','cajas', 'monto'])\n",
    "df = pd.DataFrame(datos)\n",
    "print(df.info())\n",
    "print()\n",
    "#df[['Proveedor', 'Descripcion', 'cajas', 'monto']]\n",
    "\n",
    "print('Monto promedio:', df['monto'].mean())\n",
    "print('Cajas promedio:', df['cajas'].mean())\n",
    "print()\n",
    "print('Monto Total:', df['monto'].sum())\n",
    "print('Cajas Totales:', df['cajas'].sum())\n",
    "print()\n",
    "print('Proveedores:\\n', df['Proveedor'].unique())\n",
    "print('Productos:\\n', df['Descripcion'].unique())\n",
    "#print(dir(df))\n"
   ]
  },
  {
   "cell_type": "code",
   "execution_count": 23,
   "metadata": {
    "colab": {
     "base_uri": "https://localhost:8080/",
     "height": 71
    },
    "colab_type": "code",
    "executionInfo": {
     "elapsed": 1081,
     "status": "ok",
     "timestamp": 1600907777238,
     "user": {
      "displayName": "Julio Calderaro",
      "photoUrl": "https://lh3.googleusercontent.com/a-/AOh14GiQFJ3fBmrh8Mmqhbol8wZHD3Uv367yeLdr6pJ0bA=s64",
      "userId": "16947251362447801808"
     },
     "user_tz": -120
    },
    "id": "xj0XxWeAnZNK",
    "outputId": "92d0847a-a8ab-4ced-d824-607bbbf36183"
   },
   "outputs": [
    {
     "name": "stderr",
     "output_type": "stream",
     "text": [
      "C:\\Users\\Jcc\\AppData\\Local\\Temp/ipykernel_8076/914752070.py:3: FutureWarning: Indexing with multiple keys (implicitly converted to a tuple of keys) will be deprecated, use a list instead.\n",
      "  grouped_df = df.groupby('Descripcion')['monto', 'cajas'].agg({'sum'}).reset_index()\n"
     ]
    }
   ],
   "source": [
    "pd.options.display.float_format = 'Bs.{:,.2f}'.format\n",
    "\n",
    "grouped_df = df.groupby('Descripcion')['monto', 'cajas'].agg({'sum'}).reset_index()\n",
    "grouped_df.columns = ['Descripcion', 'Monto', 'Cajas']\n"
   ]
  },
  {
   "cell_type": "code",
   "execution_count": 9,
   "metadata": {
    "colab": {
     "base_uri": "https://localhost:8080/",
     "height": 419
    },
    "colab_type": "code",
    "executionInfo": {
     "elapsed": 854,
     "status": "ok",
     "timestamp": 1597170052109,
     "user": {
      "displayName": "Julio Calderaro",
      "photoUrl": "https://lh3.googleusercontent.com/a-/AOh14GiQFJ3fBmrh8Mmqhbol8wZHD3Uv367yeLdr6pJ0bA=s64",
      "userId": "16947251362447801808"
     },
     "user_tz": -120
    },
    "id": "1j6Z9UTs6jZT",
    "outputId": "cf81a38d-57cc-4861-e73d-f44da784eae5"
   },
   "outputs": [
    {
     "data": {
      "text/html": [
       "<div>\n",
       "<style scoped>\n",
       "    .dataframe tbody tr th:only-of-type {\n",
       "        vertical-align: middle;\n",
       "    }\n",
       "\n",
       "    .dataframe tbody tr th {\n",
       "        vertical-align: top;\n",
       "    }\n",
       "\n",
       "    .dataframe thead th {\n",
       "        text-align: right;\n",
       "    }\n",
       "</style>\n",
       "<table border=\"1\" class=\"dataframe\">\n",
       "  <thead>\n",
       "    <tr style=\"text-align: right;\">\n",
       "      <th></th>\n",
       "      <th>Descripcion</th>\n",
       "      <th>Monto</th>\n",
       "      <th>Cajas</th>\n",
       "    </tr>\n",
       "  </thead>\n",
       "  <tbody>\n",
       "    <tr>\n",
       "      <th>0</th>\n",
       "      <td>ACEITE CARICIAS</td>\n",
       "      <td>Bs.956,048.55</td>\n",
       "      <td>Bs.161.00</td>\n",
       "    </tr>\n",
       "    <tr>\n",
       "      <th>1</th>\n",
       "      <td>ARNICA FC FORTE ROLL ON</td>\n",
       "      <td>Bs.69,088.44</td>\n",
       "      <td>Bs.2.00</td>\n",
       "    </tr>\n",
       "    <tr>\n",
       "      <th>2</th>\n",
       "      <td>ARNICA FC PLUS</td>\n",
       "      <td>Bs.787,854.08</td>\n",
       "      <td>Bs.26.00</td>\n",
       "    </tr>\n",
       "    <tr>\n",
       "      <th>3</th>\n",
       "      <td>ARNICA FC ROLL ON</td>\n",
       "      <td>Bs.587,251.74</td>\n",
       "      <td>Bs.17.00</td>\n",
       "    </tr>\n",
       "    <tr>\n",
       "      <th>4</th>\n",
       "      <td>BEDUCEN CREMA</td>\n",
       "      <td>Bs.4,701,261.30</td>\n",
       "      <td>Bs.310.00</td>\n",
       "    </tr>\n",
       "    <tr>\n",
       "      <th>...</th>\n",
       "      <td>...</td>\n",
       "      <td>...</td>\n",
       "      <td>...</td>\n",
       "    </tr>\n",
       "    <tr>\n",
       "      <th>98</th>\n",
       "      <td>TAZZA FANTASIA DI CACAO</td>\n",
       "      <td>Bs.623,946.15</td>\n",
       "      <td>Bs.15.00</td>\n",
       "    </tr>\n",
       "    <tr>\n",
       "      <th>99</th>\n",
       "      <td>TOALLITAS DESMAQUILLANTES.</td>\n",
       "      <td>Bs.1,270,462.72</td>\n",
       "      <td>Bs.244.00</td>\n",
       "    </tr>\n",
       "    <tr>\n",
       "      <th>100</th>\n",
       "      <td>VASO PLASTICO PET VERDE # 12 12oz. 360cc</td>\n",
       "      <td>Bs.1,004,837.47</td>\n",
       "      <td>Bs.86.00</td>\n",
       "    </tr>\n",
       "    <tr>\n",
       "      <th>101</th>\n",
       "      <td>VASOS FANTASIA DI CACAO</td>\n",
       "      <td>Bs.901,365.60</td>\n",
       "      <td>Bs.13.00</td>\n",
       "    </tr>\n",
       "    <tr>\n",
       "      <th>102</th>\n",
       "      <td>VASOS FANTASIA DI CACAO DUO</td>\n",
       "      <td>Bs.633,772.89</td>\n",
       "      <td>Bs.9.00</td>\n",
       "    </tr>\n",
       "  </tbody>\n",
       "</table>\n",
       "<p>103 rows × 3 columns</p>\n",
       "</div>"
      ],
      "text/plain": [
       "                                  Descripcion           Monto     Cajas\n",
       "0                             ACEITE CARICIAS   Bs.956,048.55 Bs.161.00\n",
       "1                     ARNICA FC FORTE ROLL ON    Bs.69,088.44   Bs.2.00\n",
       "2                              ARNICA FC PLUS   Bs.787,854.08  Bs.26.00\n",
       "3                           ARNICA FC ROLL ON   Bs.587,251.74  Bs.17.00\n",
       "4                               BEDUCEN CREMA Bs.4,701,261.30 Bs.310.00\n",
       "..                                        ...             ...       ...\n",
       "98                    TAZZA FANTASIA DI CACAO   Bs.623,946.15  Bs.15.00\n",
       "99                 TOALLITAS DESMAQUILLANTES. Bs.1,270,462.72 Bs.244.00\n",
       "100  VASO PLASTICO PET VERDE # 12 12oz. 360cc Bs.1,004,837.47  Bs.86.00\n",
       "101                   VASOS FANTASIA DI CACAO   Bs.901,365.60  Bs.13.00\n",
       "102               VASOS FANTASIA DI CACAO DUO   Bs.633,772.89   Bs.9.00\n",
       "\n",
       "[103 rows x 3 columns]"
      ]
     },
     "execution_count": 9,
     "metadata": {},
     "output_type": "execute_result"
    }
   ],
   "source": [
    "grouped_df"
   ]
  },
  {
   "cell_type": "markdown",
   "metadata": {
    "colab_type": "text",
    "id": "VGvgCZq-NR9K"
   },
   "source": [
    "#Los cinco productos mas vendidos"
   ]
  },
  {
   "cell_type": "code",
   "execution_count": 11,
   "metadata": {
    "colab": {},
    "colab_type": "code",
    "id": "X4qBqXu7x4q9"
   },
   "outputs": [],
   "source": [
    "agrupado_monto = df.iloc[df.groupby('monto').agg(max_ = ('monto', lambda data: data.idxmax())).max_]"
   ]
  },
  {
   "cell_type": "code",
   "execution_count": 12,
   "metadata": {
    "colab": {
     "base_uri": "https://localhost:8080/",
     "height": 419
    },
    "colab_type": "code",
    "executionInfo": {
     "elapsed": 1025,
     "status": "ok",
     "timestamp": 1600907791176,
     "user": {
      "displayName": "Julio Calderaro",
      "photoUrl": "https://lh3.googleusercontent.com/a-/AOh14GiQFJ3fBmrh8Mmqhbol8wZHD3Uv367yeLdr6pJ0bA=s64",
      "userId": "16947251362447801808"
     },
     "user_tz": -120
    },
    "id": "fuQ-j2bMznWH",
    "outputId": "0f7fccc3-52c5-41d0-92a4-df28b673be31"
   },
   "outputs": [
    {
     "data": {
      "text/html": [
       "<div>\n",
       "<style scoped>\n",
       "    .dataframe tbody tr th:only-of-type {\n",
       "        vertical-align: middle;\n",
       "    }\n",
       "\n",
       "    .dataframe tbody tr th {\n",
       "        vertical-align: top;\n",
       "    }\n",
       "\n",
       "    .dataframe thead th {\n",
       "        text-align: right;\n",
       "    }\n",
       "</style>\n",
       "<table border=\"1\" class=\"dataframe\">\n",
       "  <thead>\n",
       "    <tr style=\"text-align: right;\">\n",
       "      <th></th>\n",
       "      <th>Proveedor</th>\n",
       "      <th>Descripcion</th>\n",
       "      <th>cajas</th>\n",
       "      <th>monto</th>\n",
       "    </tr>\n",
       "  </thead>\n",
       "  <tbody>\n",
       "    <tr>\n",
       "      <th>78</th>\n",
       "      <td>ANCOR COSMETICS,C.A</td>\n",
       "      <td>GEL PARA EL CABELLO</td>\n",
       "      <td>Bs.-72.00</td>\n",
       "      <td>Bs.-468,290.16</td>\n",
       "    </tr>\n",
       "    <tr>\n",
       "      <th>97</th>\n",
       "      <td>CONSORCIO IMPORLIGTH, C.A.</td>\n",
       "      <td>DULCILIGHT ESTUCHE</td>\n",
       "      <td>Bs.-4.00</td>\n",
       "      <td>Bs.-181,256.56</td>\n",
       "    </tr>\n",
       "    <tr>\n",
       "      <th>152</th>\n",
       "      <td>ALIMENTOS MERU C.A</td>\n",
       "      <td>SAL MERÃ GRUESA</td>\n",
       "      <td>Bs.-11.00</td>\n",
       "      <td>Bs.-17,160.00</td>\n",
       "    </tr>\n",
       "    <tr>\n",
       "      <th>55</th>\n",
       "      <td>BEIERSDORF S.A.</td>\n",
       "      <td>NIVEA SUN PROTECT &amp; REFRESH FPS 50</td>\n",
       "      <td>Bs.-1.00</td>\n",
       "      <td>Bs.-14,332.61</td>\n",
       "    </tr>\n",
       "    <tr>\n",
       "      <th>1</th>\n",
       "      <td>BETTER HOME PRODUCTS, C.A.</td>\n",
       "      <td>LIMPIADOR DE POCETAS MAS</td>\n",
       "      <td>Bs.-3.00</td>\n",
       "      <td>Bs.-11,953.83</td>\n",
       "    </tr>\n",
       "    <tr>\n",
       "      <th>...</th>\n",
       "      <td>...</td>\n",
       "      <td>...</td>\n",
       "      <td>...</td>\n",
       "      <td>...</td>\n",
       "    </tr>\n",
       "    <tr>\n",
       "      <th>98</th>\n",
       "      <td>CONSORCIO IMPORLIGTH, C.A.</td>\n",
       "      <td>DULCILIGHT ESTUCHE</td>\n",
       "      <td>Bs.886.00</td>\n",
       "      <td>Bs.43,479,045.53</td>\n",
       "    </tr>\n",
       "    <tr>\n",
       "      <th>100</th>\n",
       "      <td>GRUPO DIPACA, C.A.</td>\n",
       "      <td>COTUFAS DE MAIZ SABOR MANTEQUILLA</td>\n",
       "      <td>Bs.3,146.00</td>\n",
       "      <td>Bs.44,641,852.46</td>\n",
       "    </tr>\n",
       "    <tr>\n",
       "      <th>6</th>\n",
       "      <td>BETTER HOME PRODUCTS, C.A.</td>\n",
       "      <td>LIMPIADOR DE POCETAS MAS</td>\n",
       "      <td>Bs.5,366.00</td>\n",
       "      <td>Bs.45,137,531.98</td>\n",
       "    </tr>\n",
       "    <tr>\n",
       "      <th>99</th>\n",
       "      <td>GRUPO DIPACA, C.A.</td>\n",
       "      <td>COTUFAS DE MAIZ NATURAL</td>\n",
       "      <td>Bs.3,222.00</td>\n",
       "      <td>Bs.45,594,700.59</td>\n",
       "    </tr>\n",
       "    <tr>\n",
       "      <th>53</th>\n",
       "      <td>POLIFILM DE VENEZUELA, S.A.</td>\n",
       "      <td>ENVOLT.INDUSTRIAL CHAMPAGNE.</td>\n",
       "      <td>Bs.7,650.00</td>\n",
       "      <td>Bs.192,022,369.28</td>\n",
       "    </tr>\n",
       "  </tbody>\n",
       "</table>\n",
       "<p>170 rows × 4 columns</p>\n",
       "</div>"
      ],
      "text/plain": [
       "                       Proveedor                         Descripcion  \\\n",
       "78           ANCOR COSMETICS,C.A                 GEL PARA EL CABELLO   \n",
       "97    CONSORCIO IMPORLIGTH, C.A.                  DULCILIGHT ESTUCHE   \n",
       "152           ALIMENTOS MERU C.A                    SAL MERÃ GRUESA   \n",
       "55               BEIERSDORF S.A.  NIVEA SUN PROTECT & REFRESH FPS 50   \n",
       "1     BETTER HOME PRODUCTS, C.A.            LIMPIADOR DE POCETAS MAS   \n",
       "..                           ...                                 ...   \n",
       "98    CONSORCIO IMPORLIGTH, C.A.                  DULCILIGHT ESTUCHE   \n",
       "100           GRUPO DIPACA, C.A.   COTUFAS DE MAIZ SABOR MANTEQUILLA   \n",
       "6     BETTER HOME PRODUCTS, C.A.            LIMPIADOR DE POCETAS MAS   \n",
       "99            GRUPO DIPACA, C.A.             COTUFAS DE MAIZ NATURAL   \n",
       "53   POLIFILM DE VENEZUELA, S.A.        ENVOLT.INDUSTRIAL CHAMPAGNE.   \n",
       "\n",
       "          cajas             monto  \n",
       "78    Bs.-72.00    Bs.-468,290.16  \n",
       "97     Bs.-4.00    Bs.-181,256.56  \n",
       "152   Bs.-11.00     Bs.-17,160.00  \n",
       "55     Bs.-1.00     Bs.-14,332.61  \n",
       "1      Bs.-3.00     Bs.-11,953.83  \n",
       "..          ...               ...  \n",
       "98    Bs.886.00  Bs.43,479,045.53  \n",
       "100 Bs.3,146.00  Bs.44,641,852.46  \n",
       "6   Bs.5,366.00  Bs.45,137,531.98  \n",
       "99  Bs.3,222.00  Bs.45,594,700.59  \n",
       "53  Bs.7,650.00 Bs.192,022,369.28  \n",
       "\n",
       "[170 rows x 4 columns]"
      ]
     },
     "execution_count": 12,
     "metadata": {},
     "output_type": "execute_result"
    }
   ],
   "source": [
    "agrupado_monto"
   ]
  },
  {
   "cell_type": "code",
   "execution_count": 13,
   "metadata": {
    "colab": {},
    "colab_type": "code",
    "id": "zIJ8KPF7y5KP"
   },
   "outputs": [],
   "source": [
    "agrupado_cajas = df.iloc[df.groupby('cajas').agg(max_ = ('cajas', lambda data: data.idxmax())).max_].sort_index(ascending = True)"
   ]
  },
  {
   "cell_type": "code",
   "execution_count": 14,
   "metadata": {
    "colab": {
     "base_uri": "https://localhost:8080/",
     "height": 419
    },
    "colab_type": "code",
    "executionInfo": {
     "elapsed": 1026,
     "status": "ok",
     "timestamp": 1597171121389,
     "user": {
      "displayName": "Julio Calderaro",
      "photoUrl": "https://lh3.googleusercontent.com/a-/AOh14GiQFJ3fBmrh8Mmqhbol8wZHD3Uv367yeLdr6pJ0bA=s64",
      "userId": "16947251362447801808"
     },
     "user_tz": -120
    },
    "id": "unmq63L10QpQ",
    "outputId": "22ea0883-35a4-4798-9909-c75ddd25bcbb"
   },
   "outputs": [
    {
     "data": {
      "text/html": [
       "<div>\n",
       "<style scoped>\n",
       "    .dataframe tbody tr th:only-of-type {\n",
       "        vertical-align: middle;\n",
       "    }\n",
       "\n",
       "    .dataframe tbody tr th {\n",
       "        vertical-align: top;\n",
       "    }\n",
       "\n",
       "    .dataframe thead th {\n",
       "        text-align: right;\n",
       "    }\n",
       "</style>\n",
       "<table border=\"1\" class=\"dataframe\">\n",
       "  <thead>\n",
       "    <tr style=\"text-align: right;\">\n",
       "      <th></th>\n",
       "      <th>Proveedor</th>\n",
       "      <th>Descripcion</th>\n",
       "      <th>cajas</th>\n",
       "      <th>monto</th>\n",
       "    </tr>\n",
       "  </thead>\n",
       "  <tbody>\n",
       "    <tr>\n",
       "      <th>0</th>\n",
       "      <td>BETTER HOME PRODUCTS, C.A.</td>\n",
       "      <td>LIMPIADOR DE POCETAS MAS.</td>\n",
       "      <td>Bs.7.00</td>\n",
       "      <td>Bs.16,853.27</td>\n",
       "    </tr>\n",
       "    <tr>\n",
       "      <th>1</th>\n",
       "      <td>BETTER HOME PRODUCTS, C.A.</td>\n",
       "      <td>LIMPIADOR DE POCETAS MAS</td>\n",
       "      <td>Bs.-3.00</td>\n",
       "      <td>Bs.-11,953.83</td>\n",
       "    </tr>\n",
       "    <tr>\n",
       "      <th>2</th>\n",
       "      <td>BETTER HOME PRODUCTS, C.A.</td>\n",
       "      <td>LIMPIADOR DE POCETAS MAS</td>\n",
       "      <td>Bs.2,590.00</td>\n",
       "      <td>Bs.8,549,780.45</td>\n",
       "    </tr>\n",
       "    <tr>\n",
       "      <th>3</th>\n",
       "      <td>BETTER HOME PRODUCTS, C.A.</td>\n",
       "      <td>LIMPIADOR DE POCETAS MAS</td>\n",
       "      <td>Bs.15.00</td>\n",
       "      <td>Bs.56,442.45</td>\n",
       "    </tr>\n",
       "    <tr>\n",
       "      <th>4</th>\n",
       "      <td>BETTER HOME PRODUCTS, C.A.</td>\n",
       "      <td>LIMPIADOR DE POCETAS MAS</td>\n",
       "      <td>Bs.294.00</td>\n",
       "      <td>Bs.1,543,823.40</td>\n",
       "    </tr>\n",
       "    <tr>\n",
       "      <th>...</th>\n",
       "      <td>...</td>\n",
       "      <td>...</td>\n",
       "      <td>...</td>\n",
       "      <td>...</td>\n",
       "    </tr>\n",
       "    <tr>\n",
       "      <th>152</th>\n",
       "      <td>ALIMENTOS MERU C.A</td>\n",
       "      <td>SAL MERÃ GRUESA</td>\n",
       "      <td>Bs.-11.00</td>\n",
       "      <td>Bs.-17,160.00</td>\n",
       "    </tr>\n",
       "    <tr>\n",
       "      <th>154</th>\n",
       "      <td>ALIMENTOS MERU C.A</td>\n",
       "      <td>SAL MERÃ FINA</td>\n",
       "      <td>Bs.1,068.00</td>\n",
       "      <td>Bs.5,764,496.70</td>\n",
       "    </tr>\n",
       "    <tr>\n",
       "      <th>158</th>\n",
       "      <td>MARENOSTRUM C.A</td>\n",
       "      <td>PRESERVATIVO M-ZONE TEXTURIZADO</td>\n",
       "      <td>Bs.21.00</td>\n",
       "      <td>Bs.508,965.57</td>\n",
       "    </tr>\n",
       "    <tr>\n",
       "      <th>163</th>\n",
       "      <td>INVERSIONES SHAFAGIAM 2013,CA.</td>\n",
       "      <td>VASOS FANTASIA DI CACAO</td>\n",
       "      <td>Bs.13.00</td>\n",
       "      <td>Bs.901,365.60</td>\n",
       "    </tr>\n",
       "    <tr>\n",
       "      <th>167</th>\n",
       "      <td>LABORATORIOS FC PHARMA,CA</td>\n",
       "      <td>PERLAVIS FEMME BAÃO INTIMO</td>\n",
       "      <td>Bs.39.00</td>\n",
       "      <td>Bs.2,344,028.70</td>\n",
       "    </tr>\n",
       "  </tbody>\n",
       "</table>\n",
       "<p>101 rows × 4 columns</p>\n",
       "</div>"
      ],
      "text/plain": [
       "                          Proveedor                      Descripcion  \\\n",
       "0        BETTER HOME PRODUCTS, C.A.        LIMPIADOR DE POCETAS MAS.   \n",
       "1        BETTER HOME PRODUCTS, C.A.         LIMPIADOR DE POCETAS MAS   \n",
       "2        BETTER HOME PRODUCTS, C.A.         LIMPIADOR DE POCETAS MAS   \n",
       "3        BETTER HOME PRODUCTS, C.A.         LIMPIADOR DE POCETAS MAS   \n",
       "4        BETTER HOME PRODUCTS, C.A.         LIMPIADOR DE POCETAS MAS   \n",
       "..                              ...                              ...   \n",
       "152              ALIMENTOS MERU C.A                 SAL MERÃ GRUESA   \n",
       "154              ALIMENTOS MERU C.A                   SAL MERÃ FINA   \n",
       "158                 MARENOSTRUM C.A  PRESERVATIVO M-ZONE TEXTURIZADO   \n",
       "163  INVERSIONES SHAFAGIAM 2013,CA.          VASOS FANTASIA DI CACAO   \n",
       "167       LABORATORIOS FC PHARMA,CA      PERLAVIS FEMME BAÃO INTIMO   \n",
       "\n",
       "          cajas           monto  \n",
       "0       Bs.7.00    Bs.16,853.27  \n",
       "1      Bs.-3.00   Bs.-11,953.83  \n",
       "2   Bs.2,590.00 Bs.8,549,780.45  \n",
       "3      Bs.15.00    Bs.56,442.45  \n",
       "4     Bs.294.00 Bs.1,543,823.40  \n",
       "..          ...             ...  \n",
       "152   Bs.-11.00   Bs.-17,160.00  \n",
       "154 Bs.1,068.00 Bs.5,764,496.70  \n",
       "158    Bs.21.00   Bs.508,965.57  \n",
       "163    Bs.13.00   Bs.901,365.60  \n",
       "167    Bs.39.00 Bs.2,344,028.70  \n",
       "\n",
       "[101 rows x 4 columns]"
      ]
     },
     "execution_count": 14,
     "metadata": {},
     "output_type": "execute_result"
    }
   ],
   "source": [
    "agrupado_cajas"
   ]
  },
  {
   "cell_type": "code",
   "execution_count": 15,
   "metadata": {
    "colab": {
     "base_uri": "https://localhost:8080/",
     "height": 80
    },
    "colab_type": "code",
    "executionInfo": {
     "elapsed": 860,
     "status": "ok",
     "timestamp": 1597170087801,
     "user": {
      "displayName": "Julio Calderaro",
      "photoUrl": "https://lh3.googleusercontent.com/a-/AOh14GiQFJ3fBmrh8Mmqhbol8wZHD3Uv367yeLdr6pJ0bA=s64",
      "userId": "16947251362447801808"
     },
     "user_tz": -120
    },
    "id": "myncALTk35DG",
    "outputId": "1e68a551-b021-44e4-a345-174161871beb"
   },
   "outputs": [
    {
     "data": {
      "text/html": [
       "<div>\n",
       "<style scoped>\n",
       "    .dataframe tbody tr th:only-of-type {\n",
       "        vertical-align: middle;\n",
       "    }\n",
       "\n",
       "    .dataframe tbody tr th {\n",
       "        vertical-align: top;\n",
       "    }\n",
       "\n",
       "    .dataframe thead th {\n",
       "        text-align: right;\n",
       "    }\n",
       "</style>\n",
       "<table border=\"1\" class=\"dataframe\">\n",
       "  <thead>\n",
       "    <tr style=\"text-align: right;\">\n",
       "      <th></th>\n",
       "      <th>Proveedor</th>\n",
       "      <th>Descripcion</th>\n",
       "      <th>cajas</th>\n",
       "      <th>monto</th>\n",
       "    </tr>\n",
       "  </thead>\n",
       "  <tbody>\n",
       "    <tr>\n",
       "      <th>163</th>\n",
       "      <td>INVERSIONES SHAFAGIAM 2013,CA.</td>\n",
       "      <td>VASOS FANTASIA DI CACAO</td>\n",
       "      <td>Bs.13.00</td>\n",
       "      <td>Bs.901,365.60</td>\n",
       "    </tr>\n",
       "  </tbody>\n",
       "</table>\n",
       "</div>"
      ],
      "text/plain": [
       "                          Proveedor              Descripcion    cajas  \\\n",
       "163  INVERSIONES SHAFAGIAM 2013,CA.  VASOS FANTASIA DI CACAO Bs.13.00   \n",
       "\n",
       "            monto  \n",
       "163 Bs.901,365.60  "
      ]
     },
     "execution_count": 15,
     "metadata": {},
     "output_type": "execute_result"
    }
   ],
   "source": [
    "desc = df.loc[:, 'Descripcion'] == 'VASOS FANTASIA DI CACAO'\n",
    "df_desc = df.loc[desc]\n",
    "df_desc.head()"
   ]
  },
  {
   "cell_type": "code",
   "execution_count": 16,
   "metadata": {
    "colab": {
     "base_uri": "https://localhost:8080/",
     "height": 102
    },
    "colab_type": "code",
    "executionInfo": {
     "elapsed": 1070,
     "status": "ok",
     "timestamp": 1597170093934,
     "user": {
      "displayName": "Julio Calderaro",
      "photoUrl": "https://lh3.googleusercontent.com/a-/AOh14GiQFJ3fBmrh8Mmqhbol8wZHD3Uv367yeLdr6pJ0bA=s64",
      "userId": "16947251362447801808"
     },
     "user_tz": -120
    },
    "id": "wHW7lbxT5DbZ",
    "outputId": "ccc7f05b-50d0-4ee3-9ce7-e915a6572976"
   },
   "outputs": [
    {
     "data": {
      "text/plain": [
       "Proveedor      INVERSIONES SHAFAGIAM 2013,CA.\n",
       "Descripcion           TAZZA FANTASIA DI CACAO\n",
       "cajas                                Bs.15.00\n",
       "monto                           Bs.623,946.15\n",
       "Name: 161, dtype: object"
      ]
     },
     "execution_count": 16,
     "metadata": {},
     "output_type": "execute_result"
    }
   ],
   "source": [
    "df.iloc[161]\n"
   ]
  },
  {
   "cell_type": "code",
   "execution_count": 17,
   "metadata": {
    "colab": {
     "base_uri": "https://localhost:8080/",
     "height": 102
    },
    "colab_type": "code",
    "executionInfo": {
     "elapsed": 873,
     "status": "ok",
     "timestamp": 1597170297718,
     "user": {
      "displayName": "Julio Calderaro",
      "photoUrl": "https://lh3.googleusercontent.com/a-/AOh14GiQFJ3fBmrh8Mmqhbol8wZHD3Uv367yeLdr6pJ0bA=s64",
      "userId": "16947251362447801808"
     },
     "user_tz": -120
    },
    "id": "wy7OkC1M8sd4",
    "outputId": "bba9df40-ebfa-4df7-8c53-f139c0540221"
   },
   "outputs": [
    {
     "data": {
      "text/plain": [
       "Proveedor      POLIFILM DE VENEZUELA, S.A.\n",
       "Descripcion    VASOS FANTASIA DI CACAO DUO\n",
       "cajas                          Bs.7,650.00\n",
       "monto                    Bs.192,022,369.28\n",
       "dtype: object"
      ]
     },
     "execution_count": 17,
     "metadata": {},
     "output_type": "execute_result"
    }
   ],
   "source": [
    "df.max()"
   ]
  },
  {
   "cell_type": "code",
   "execution_count": 18,
   "metadata": {
    "colab": {
     "base_uri": "https://localhost:8080/",
     "height": 102
    },
    "colab_type": "code",
    "executionInfo": {
     "elapsed": 1058,
     "status": "ok",
     "timestamp": 1597170132451,
     "user": {
      "displayName": "Julio Calderaro",
      "photoUrl": "https://lh3.googleusercontent.com/a-/AOh14GiQFJ3fBmrh8Mmqhbol8wZHD3Uv367yeLdr6pJ0bA=s64",
      "userId": "16947251362447801808"
     },
     "user_tz": -120
    },
    "id": "WD1YrLrd0JD2",
    "outputId": "cd6161d5-4085-4ae7-d552-afc39e001a85"
   },
   "outputs": [
    {
     "data": {
      "text/plain": [
       "Proveedor      BETTER HOME PRODUCTS, C.A.BETTER HOME PRODUCTS...\n",
       "Descripcion    LIMPIADOR DE POCETAS MAS.LIMPIADOR DE POCETAS ...\n",
       "cajas                                               Bs.51,641.00\n",
       "monto                                          Bs.627,963,585.03\n",
       "dtype: object"
      ]
     },
     "execution_count": 18,
     "metadata": {},
     "output_type": "execute_result"
    }
   ],
   "source": [
    "\n",
    "monthly_sales = df.groupby(['Descripcion']).agg(['sum'])\n",
    "datos.sum()\n",
    "\n",
    "#dir_test = '/content/drive/My Drive/datos_test.csv'\n",
    "\n",
    "#datos.to_csv(dir_test)\n"
   ]
  },
  {
   "cell_type": "code",
   "execution_count": 24,
   "metadata": {
    "colab": {
     "base_uri": "https://localhost:8080/",
     "height": 554
    },
    "colab_type": "code",
    "executionInfo": {
     "elapsed": 1834,
     "status": "ok",
     "timestamp": 1597170147225,
     "user": {
      "displayName": "Julio Calderaro",
      "photoUrl": "https://lh3.googleusercontent.com/a-/AOh14GiQFJ3fBmrh8Mmqhbol8wZHD3Uv367yeLdr6pJ0bA=s64",
      "userId": "16947251362447801808"
     },
     "user_tz": -120
    },
    "id": "Zb_vVyC4m8p2",
    "outputId": "708fd889-d796-4480-a7d9-39aaeff2b48d"
   },
   "outputs": [
    {
     "name": "stdout",
     "output_type": "stream",
     "text": [
      "\n"
     ]
    },
    {
     "data": {
      "image/png": "[encoded data removed]",
      "text/plain": [
       "<Figure size 1080x648 with 1 Axes>"
      ]
     },
     "metadata": {
      "needs_background": "light"
     },
     "output_type": "display_data"
    }
   ],
   "source": [
    "f, ax = plt.subplots(figsize=(15,9))\n",
    "ax.set_yscale('log')\n",
    "sns.swarmplot(data=datos[['monto', 'cajas']],size=5, alpha=0.9)\n",
    "sns.boxplot(data=datos[['monto', 'cajas']])\n",
    "print()"
   ]
  },
  {
   "cell_type": "code",
   "execution_count": null,
   "metadata": {},
   "outputs": [],
   "source": []
  }
 ],
 "metadata": {
  "colab": {
   "authorship_tag": "ABX9TyOMHd7B2u4s3x2vtAsX6ANS",
   "collapsed_sections": [],
   "mount_file_id": "1WmLIiTm2bAhED13QR0jSDfdyx30qgHWK",
   "name": "adv.ipynb",
   "provenance": []
  },
  "kernelspec": {
   "display_name": "Python 3 (ipykernel)",
   "language": "python",
   "name": "python3"
  },
  "language_info": {
   "codemirror_mode": {
    "name": "ipython",
    "version": 3
   },
   "file_extension": ".py",
   "mimetype": "text/x-python",
   "name": "python",
   "nbconvert_exporter": "python",
   "pygments_lexer": "ipython3",
   "version": "3.10.0"
  }
 },
 "nbformat": 4,
 "nbformat_minor": 1
}
